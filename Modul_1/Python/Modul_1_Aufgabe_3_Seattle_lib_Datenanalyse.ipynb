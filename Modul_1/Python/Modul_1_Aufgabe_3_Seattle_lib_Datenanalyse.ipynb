{
 "cells": [
  {
   "cell_type": "markdown",
   "metadata": {},
   "source": [
    "## TOC\n",
    "0. Daten aufbereiten und Voranalysen\n",
    "1. Sortierung des Erscheinungsjahre absteigend\n",
    "2. Analyse Materialtype \"Book\", \"eBook\" & \"Audiobook\"\n",
    "3. Checkouts im Verhältnis zu Sacherschließung und Physische Form (Usageclass)\n",
    "    * 3a. Sind Ressourcen mit mehr Schlagwörtern häufiger entliehen?\n",
    "    * 3b. Checkouts nach Digital und Physical"
   ]
  },
  {
   "cell_type": "markdown",
   "metadata": {},
   "source": [
    "## 0. Daten aufbereiten und Voranalysen"
   ]
  },
  {
   "cell_type": "code",
   "execution_count": 132,
   "metadata": {},
   "outputs": [],
   "source": [
    "import urllib.request\n",
    "import pandas as pd"
   ]
  },
  {
   "cell_type": "markdown",
   "metadata": {},
   "source": [
    "### Daten via API holen und als .csv speichern"
   ]
  },
  {
   "cell_type": "code",
   "execution_count": 133,
   "metadata": {},
   "outputs": [
    {
     "data": {
      "text/plain": [
       "('checkout.csv', <http.client.HTTPMessage at 0x7f78d7afd340>)"
      ]
     },
     "execution_count": 133,
     "metadata": {},
     "output_type": "execute_result"
    }
   ],
   "source": [
    "url = \"https://data.seattle.gov/resource/tmmm-ytt6.csv?$where=checkoutyear=2018&$limit=10000\"\n",
    "checkout_file = \"checkout.csv\"\n",
    "urllib.request.urlretrieve(url, checkout_file)"
   ]
  },
  {
   "cell_type": "markdown",
   "metadata": {},
   "source": [
    "### Dataframe erstellen fuer checkout_file"
   ]
  },
  {
   "cell_type": "code",
   "execution_count": 134,
   "metadata": {},
   "outputs": [
    {
     "data": {
      "text/html": [
       "<div>\n",
       "<style scoped>\n",
       "    .dataframe tbody tr th:only-of-type {\n",
       "        vertical-align: middle;\n",
       "    }\n",
       "\n",
       "    .dataframe tbody tr th {\n",
       "        vertical-align: top;\n",
       "    }\n",
       "\n",
       "    .dataframe thead th {\n",
       "        text-align: right;\n",
       "    }\n",
       "</style>\n",
       "<table border=\"1\" class=\"dataframe\">\n",
       "  <thead>\n",
       "    <tr style=\"text-align: right;\">\n",
       "      <th></th>\n",
       "      <th>usageclass</th>\n",
       "      <th>checkouttype</th>\n",
       "      <th>materialtype</th>\n",
       "      <th>checkoutyear</th>\n",
       "      <th>checkoutmonth</th>\n",
       "      <th>checkouts</th>\n",
       "      <th>title</th>\n",
       "      <th>creator</th>\n",
       "      <th>subjects</th>\n",
       "      <th>publisher</th>\n",
       "      <th>publicationyear</th>\n",
       "    </tr>\n",
       "  </thead>\n",
       "  <tbody>\n",
       "    <tr>\n",
       "      <th>0</th>\n",
       "      <td>Physical</td>\n",
       "      <td>Horizon</td>\n",
       "      <td>BOOK</td>\n",
       "      <td>2018</td>\n",
       "      <td>12</td>\n",
       "      <td>1</td>\n",
       "      <td>Naruto. Vol. 65, Hashirama and Madara / story ...</td>\n",
       "      <td>Kishimoto, Masashi, 1974-</td>\n",
       "      <td>Naruto Fictitious character Comic books strips...</td>\n",
       "      <td>VIZ Media,</td>\n",
       "      <td>[2014]</td>\n",
       "    </tr>\n",
       "    <tr>\n",
       "      <th>1</th>\n",
       "      <td>Physical</td>\n",
       "      <td>Horizon</td>\n",
       "      <td>BOOK</td>\n",
       "      <td>2018</td>\n",
       "      <td>12</td>\n",
       "      <td>2</td>\n",
       "      <td>Oishisō na shirokuma / Shibata Keiko.</td>\n",
       "      <td>Shibata, Keiko.</td>\n",
       "      <td>Polar bear Juvenile fiction, Food Juvenile fic...</td>\n",
       "      <td>Pīeichipīkenkyūjo,</td>\n",
       "      <td>2017.</td>\n",
       "    </tr>\n",
       "    <tr>\n",
       "      <th>2</th>\n",
       "      <td>Physical</td>\n",
       "      <td>Horizon</td>\n",
       "      <td>VIDEODISC</td>\n",
       "      <td>2018</td>\n",
       "      <td>12</td>\n",
       "      <td>7</td>\n",
       "      <td>Like crazy / Paramount Vantage ; Indian Paintb...</td>\n",
       "      <td>NaN</td>\n",
       "      <td>First loves Drama, College students Drama, Fea...</td>\n",
       "      <td>Paramount Home Entertainment,</td>\n",
       "      <td>[2012]</td>\n",
       "    </tr>\n",
       "    <tr>\n",
       "      <th>3</th>\n",
       "      <td>Digital</td>\n",
       "      <td>OverDrive</td>\n",
       "      <td>AUDIOBOOK</td>\n",
       "      <td>2018</td>\n",
       "      <td>12</td>\n",
       "      <td>3</td>\n",
       "      <td>Catch a Falling Heiress: American Heiress In L...</td>\n",
       "      <td>Laura Lee Guhrke</td>\n",
       "      <td>Fiction, Historical Fiction, Romance</td>\n",
       "      <td>HarperCollins Publishers Inc.</td>\n",
       "      <td>2016</td>\n",
       "    </tr>\n",
       "    <tr>\n",
       "      <th>4</th>\n",
       "      <td>Physical</td>\n",
       "      <td>Horizon</td>\n",
       "      <td>BOOK</td>\n",
       "      <td>2018</td>\n",
       "      <td>12</td>\n",
       "      <td>1</td>\n",
       "      <td>Literally show me a healthy person / Darcie Wi...</td>\n",
       "      <td>Wilder, Darcie</td>\n",
       "      <td>Young women Fiction, Grief Fiction</td>\n",
       "      <td>Tyrant Books,</td>\n",
       "      <td>[2017]</td>\n",
       "    </tr>\n",
       "    <tr>\n",
       "      <th>...</th>\n",
       "      <td>...</td>\n",
       "      <td>...</td>\n",
       "      <td>...</td>\n",
       "      <td>...</td>\n",
       "      <td>...</td>\n",
       "      <td>...</td>\n",
       "      <td>...</td>\n",
       "      <td>...</td>\n",
       "      <td>...</td>\n",
       "      <td>...</td>\n",
       "      <td>...</td>\n",
       "    </tr>\n",
       "    <tr>\n",
       "      <th>9995</th>\n",
       "      <td>Physical</td>\n",
       "      <td>Horizon</td>\n",
       "      <td>SOUNDDISC</td>\n",
       "      <td>2018</td>\n",
       "      <td>12</td>\n",
       "      <td>1</td>\n",
       "      <td>Water / Gregory Porter.</td>\n",
       "      <td>Porter, Gregory</td>\n",
       "      <td>Jazz vocals, Jazz 2001 2010</td>\n",
       "      <td>Motéma Music,</td>\n",
       "      <td>[2010]</td>\n",
       "    </tr>\n",
       "    <tr>\n",
       "      <th>9996</th>\n",
       "      <td>Physical</td>\n",
       "      <td>Horizon</td>\n",
       "      <td>VIDEODISC</td>\n",
       "      <td>2018</td>\n",
       "      <td>12</td>\n",
       "      <td>5</td>\n",
       "      <td>Tyler Perry's I can do bad all by myself / Lio...</td>\n",
       "      <td>NaN</td>\n",
       "      <td>Simmons Madea Fictitious character Drama, Burg...</td>\n",
       "      <td>Lionsgate,</td>\n",
       "      <td>[2010]</td>\n",
       "    </tr>\n",
       "    <tr>\n",
       "      <th>9997</th>\n",
       "      <td>Physical</td>\n",
       "      <td>Horizon</td>\n",
       "      <td>BOOK</td>\n",
       "      <td>2018</td>\n",
       "      <td>12</td>\n",
       "      <td>3</td>\n",
       "      <td>The empty pot / Demi.</td>\n",
       "      <td>Demi</td>\n",
       "      <td>Folklore China, Honesty Juvenile literature, P...</td>\n",
       "      <td>Henry Holt and Company,</td>\n",
       "      <td>2012.</td>\n",
       "    </tr>\n",
       "    <tr>\n",
       "      <th>9998</th>\n",
       "      <td>Physical</td>\n",
       "      <td>Horizon</td>\n",
       "      <td>VIDEODISC</td>\n",
       "      <td>2018</td>\n",
       "      <td>12</td>\n",
       "      <td>8</td>\n",
       "      <td>Little Dorrit / BBC Productions/WGBH co-produc...</td>\n",
       "      <td>NaN</td>\n",
       "      <td>Marshalsea Prison Southwark London England Dra...</td>\n",
       "      <td>BBC Video : distributed by Warner Home Video,</td>\n",
       "      <td>2009.</td>\n",
       "    </tr>\n",
       "    <tr>\n",
       "      <th>9999</th>\n",
       "      <td>Physical</td>\n",
       "      <td>Horizon</td>\n",
       "      <td>BOOK</td>\n",
       "      <td>2018</td>\n",
       "      <td>12</td>\n",
       "      <td>4</td>\n",
       "      <td>The Pied Piper's magic / Steven Kellogg.</td>\n",
       "      <td>Kellogg, Steven</td>\n",
       "      <td>Fairy tales, Magic Fiction, Rats Juvenile fiction</td>\n",
       "      <td>Dial Books for Young Readers,</td>\n",
       "      <td>[2009]</td>\n",
       "    </tr>\n",
       "  </tbody>\n",
       "</table>\n",
       "<p>10000 rows × 11 columns</p>\n",
       "</div>"
      ],
      "text/plain": [
       "     usageclass checkouttype materialtype  checkoutyear  checkoutmonth  \\\n",
       "0      Physical      Horizon         BOOK          2018             12   \n",
       "1      Physical      Horizon         BOOK          2018             12   \n",
       "2      Physical      Horizon    VIDEODISC          2018             12   \n",
       "3       Digital    OverDrive    AUDIOBOOK          2018             12   \n",
       "4      Physical      Horizon         BOOK          2018             12   \n",
       "...         ...          ...          ...           ...            ...   \n",
       "9995   Physical      Horizon    SOUNDDISC          2018             12   \n",
       "9996   Physical      Horizon    VIDEODISC          2018             12   \n",
       "9997   Physical      Horizon         BOOK          2018             12   \n",
       "9998   Physical      Horizon    VIDEODISC          2018             12   \n",
       "9999   Physical      Horizon         BOOK          2018             12   \n",
       "\n",
       "      checkouts                                              title  \\\n",
       "0             1  Naruto. Vol. 65, Hashirama and Madara / story ...   \n",
       "1             2              Oishisō na shirokuma / Shibata Keiko.   \n",
       "2             7  Like crazy / Paramount Vantage ; Indian Paintb...   \n",
       "3             3  Catch a Falling Heiress: American Heiress In L...   \n",
       "4             1  Literally show me a healthy person / Darcie Wi...   \n",
       "...         ...                                                ...   \n",
       "9995          1                            Water / Gregory Porter.   \n",
       "9996          5  Tyler Perry's I can do bad all by myself / Lio...   \n",
       "9997          3                              The empty pot / Demi.   \n",
       "9998          8  Little Dorrit / BBC Productions/WGBH co-produc...   \n",
       "9999          4           The Pied Piper's magic / Steven Kellogg.   \n",
       "\n",
       "                        creator  \\\n",
       "0     Kishimoto, Masashi, 1974-   \n",
       "1               Shibata, Keiko.   \n",
       "2                           NaN   \n",
       "3              Laura Lee Guhrke   \n",
       "4                Wilder, Darcie   \n",
       "...                         ...   \n",
       "9995            Porter, Gregory   \n",
       "9996                        NaN   \n",
       "9997                       Demi   \n",
       "9998                        NaN   \n",
       "9999            Kellogg, Steven   \n",
       "\n",
       "                                               subjects  \\\n",
       "0     Naruto Fictitious character Comic books strips...   \n",
       "1     Polar bear Juvenile fiction, Food Juvenile fic...   \n",
       "2     First loves Drama, College students Drama, Fea...   \n",
       "3                  Fiction, Historical Fiction, Romance   \n",
       "4                    Young women Fiction, Grief Fiction   \n",
       "...                                                 ...   \n",
       "9995                        Jazz vocals, Jazz 2001 2010   \n",
       "9996  Simmons Madea Fictitious character Drama, Burg...   \n",
       "9997  Folklore China, Honesty Juvenile literature, P...   \n",
       "9998  Marshalsea Prison Southwark London England Dra...   \n",
       "9999  Fairy tales, Magic Fiction, Rats Juvenile fiction   \n",
       "\n",
       "                                          publisher publicationyear  \n",
       "0                                        VIZ Media,          [2014]  \n",
       "1                                Pīeichipīkenkyūjo,           2017.  \n",
       "2                     Paramount Home Entertainment,          [2012]  \n",
       "3                     HarperCollins Publishers Inc.            2016  \n",
       "4                                     Tyrant Books,          [2017]  \n",
       "...                                             ...             ...  \n",
       "9995                                  Motéma Music,          [2010]  \n",
       "9996                                     Lionsgate,          [2010]  \n",
       "9997                        Henry Holt and Company,           2012.  \n",
       "9998  BBC Video : distributed by Warner Home Video,           2009.  \n",
       "9999                  Dial Books for Young Readers,          [2009]  \n",
       "\n",
       "[10000 rows x 11 columns]"
      ]
     },
     "execution_count": 134,
     "metadata": {},
     "output_type": "execute_result"
    }
   ],
   "source": [
    "checkouts_df = pd.read_csv(checkout_file)\n",
    "checkouts_df"
   ]
  },
  {
   "cell_type": "code",
   "execution_count": 135,
   "metadata": {},
   "outputs": [
    {
     "data": {
      "text/plain": [
       "(10000, 11)"
      ]
     },
     "execution_count": 135,
     "metadata": {},
     "output_type": "execute_result"
    }
   ],
   "source": [
    "#Anzahl Reihen, Spalten prüfen\n",
    "checkouts_df.shape"
   ]
  },
  {
   "cell_type": "code",
   "execution_count": 136,
   "metadata": {},
   "outputs": [
    {
     "data": {
      "text/html": [
       "<div>\n",
       "<style scoped>\n",
       "    .dataframe tbody tr th:only-of-type {\n",
       "        vertical-align: middle;\n",
       "    }\n",
       "\n",
       "    .dataframe tbody tr th {\n",
       "        vertical-align: top;\n",
       "    }\n",
       "\n",
       "    .dataframe thead th {\n",
       "        text-align: right;\n",
       "    }\n",
       "</style>\n",
       "<table border=\"1\" class=\"dataframe\">\n",
       "  <thead>\n",
       "    <tr style=\"text-align: right;\">\n",
       "      <th></th>\n",
       "      <th>checkoutyear</th>\n",
       "      <th>checkoutmonth</th>\n",
       "      <th>checkouts</th>\n",
       "    </tr>\n",
       "  </thead>\n",
       "  <tbody>\n",
       "    <tr>\n",
       "      <th>count</th>\n",
       "      <td>10000.0</td>\n",
       "      <td>10000.0</td>\n",
       "      <td>10000.000000</td>\n",
       "    </tr>\n",
       "    <tr>\n",
       "      <th>mean</th>\n",
       "      <td>2018.0</td>\n",
       "      <td>12.0</td>\n",
       "      <td>3.478300</td>\n",
       "    </tr>\n",
       "    <tr>\n",
       "      <th>std</th>\n",
       "      <td>0.0</td>\n",
       "      <td>0.0</td>\n",
       "      <td>10.473533</td>\n",
       "    </tr>\n",
       "    <tr>\n",
       "      <th>min</th>\n",
       "      <td>2018.0</td>\n",
       "      <td>12.0</td>\n",
       "      <td>1.000000</td>\n",
       "    </tr>\n",
       "    <tr>\n",
       "      <th>25%</th>\n",
       "      <td>2018.0</td>\n",
       "      <td>12.0</td>\n",
       "      <td>1.000000</td>\n",
       "    </tr>\n",
       "    <tr>\n",
       "      <th>50%</th>\n",
       "      <td>2018.0</td>\n",
       "      <td>12.0</td>\n",
       "      <td>2.000000</td>\n",
       "    </tr>\n",
       "    <tr>\n",
       "      <th>75%</th>\n",
       "      <td>2018.0</td>\n",
       "      <td>12.0</td>\n",
       "      <td>3.000000</td>\n",
       "    </tr>\n",
       "    <tr>\n",
       "      <th>max</th>\n",
       "      <td>2018.0</td>\n",
       "      <td>12.0</td>\n",
       "      <td>585.000000</td>\n",
       "    </tr>\n",
       "  </tbody>\n",
       "</table>\n",
       "</div>"
      ],
      "text/plain": [
       "       checkoutyear  checkoutmonth     checkouts\n",
       "count       10000.0        10000.0  10000.000000\n",
       "mean         2018.0           12.0      3.478300\n",
       "std             0.0            0.0     10.473533\n",
       "min          2018.0           12.0      1.000000\n",
       "25%          2018.0           12.0      1.000000\n",
       "50%          2018.0           12.0      2.000000\n",
       "75%          2018.0           12.0      3.000000\n",
       "max          2018.0           12.0    585.000000"
      ]
     },
     "execution_count": 136,
     "metadata": {},
     "output_type": "execute_result"
    }
   ],
   "source": [
    "#erster Ueberblick\n",
    "checkouts_df.describe()"
   ]
  },
  {
   "cell_type": "code",
   "execution_count": 137,
   "metadata": {},
   "outputs": [
    {
     "data": {
      "text/plain": [
       "array([12])"
      ]
     },
     "execution_count": 137,
     "metadata": {},
     "output_type": "execute_result"
    }
   ],
   "source": [
    "#welche Werte kommen in checkoutmonth vor?\n",
    "checkouts_df[\"checkoutmonth\"].unique()"
   ]
  },
  {
   "cell_type": "raw",
   "metadata": {},
   "source": [
    "In diesem Auszug sind lediglich Entleihungen von Dezember enthalten. Bei Download eines größeren Samples (> 60'000) finden sich auch andere Werte."
   ]
  },
  {
   "cell_type": "markdown",
   "metadata": {},
   "source": [
    "### Analyse Spalte \"checkouts\""
   ]
  },
  {
   "cell_type": "code",
   "execution_count": 138,
   "metadata": {},
   "outputs": [
    {
     "data": {
      "text/plain": [
       "585"
      ]
     },
     "execution_count": 138,
     "metadata": {},
     "output_type": "execute_result"
    }
   ],
   "source": [
    "checkouts_df[\"checkouts\"].max()"
   ]
  },
  {
   "cell_type": "code",
   "execution_count": 139,
   "metadata": {},
   "outputs": [
    {
     "data": {
      "text/plain": [
       "1"
      ]
     },
     "execution_count": 139,
     "metadata": {},
     "output_type": "execute_result"
    }
   ],
   "source": [
    "checkouts_df[\"checkouts\"].min()"
   ]
  },
  {
   "cell_type": "code",
   "execution_count": 140,
   "metadata": {},
   "outputs": [
    {
     "data": {
      "text/plain": [
       "3.4783"
      ]
     },
     "execution_count": 140,
     "metadata": {},
     "output_type": "execute_result"
    }
   ],
   "source": [
    "#arithmetisches Mittel\n",
    "checkouts_df[\"checkouts\"].mean()"
   ]
  },
  {
   "cell_type": "code",
   "execution_count": 141,
   "metadata": {},
   "outputs": [
    {
     "data": {
      "text/plain": [
       "2.0"
      ]
     },
     "execution_count": 141,
     "metadata": {},
     "output_type": "execute_result"
    }
   ],
   "source": [
    "checkouts_df[\"checkouts\"].median()"
   ]
  },
  {
   "cell_type": "markdown",
   "metadata": {},
   "source": [
    "Die Anzahl der Ausleihen liegt zwischen 1 und 540, im Durchschnitt bei 3.339."
   ]
  },
  {
   "cell_type": "markdown",
   "metadata": {},
   "source": [
    "### Analyse \"materialtype\""
   ]
  },
  {
   "cell_type": "code",
   "execution_count": 142,
   "metadata": {},
   "outputs": [
    {
     "data": {
      "text/plain": [
       "array(['BOOK', 'VIDEODISC', 'AUDIOBOOK', 'EBOOK', 'SOUNDDISC', 'MUSIC',\n",
       "       'CR', 'VIDEO', 'SOUNDREC', 'REGPRINT', 'LARGEPRINT',\n",
       "       'SOUNDDISC, VIDEODISC', 'ER', 'MAGAZINE', 'MIXED', 'ER, SOUNDDISC'],\n",
       "      dtype=object)"
      ]
     },
     "execution_count": 142,
     "metadata": {},
     "output_type": "execute_result"
    }
   ],
   "source": [
    "checkouts_df[\"materialtype\"].unique()"
   ]
  },
  {
   "cell_type": "code",
   "execution_count": 143,
   "metadata": {},
   "outputs": [
    {
     "data": {
      "text/plain": [
       "BOOK                    4573\n",
       "EBOOK                   2535\n",
       "AUDIOBOOK               1035\n",
       "SOUNDDISC                888\n",
       "VIDEODISC                874\n",
       "MUSIC                     27\n",
       "REGPRINT                  18\n",
       "SOUNDDISC, VIDEODISC      13\n",
       "ER                         6\n",
       "CR                         6\n",
       "MAGAZINE                   6\n",
       "VIDEO                      6\n",
       "SOUNDREC                   5\n",
       "LARGEPRINT                 4\n",
       "ER, SOUNDDISC              2\n",
       "MIXED                      2\n",
       "Name: materialtype, dtype: int64"
      ]
     },
     "execution_count": 143,
     "metadata": {},
     "output_type": "execute_result"
    }
   ],
   "source": [
    "#Verteilung Materialtypen\n",
    "checkouts_df[\"materialtype\"].value_counts()"
   ]
  },
  {
   "cell_type": "code",
   "execution_count": 144,
   "metadata": {},
   "outputs": [],
   "source": [
    "#Anweisung fuer das JN, direkt im Anschluss anzuzeigen (https://swcarpentry.github.io/python-novice-gapminder/09-plotting/)!\n",
    "%matplotlib inline"
   ]
  },
  {
   "cell_type": "code",
   "execution_count": 145,
   "metadata": {},
   "outputs": [
    {
     "data": {
      "text/plain": [
       "<AxesSubplot:>"
      ]
     },
     "execution_count": 145,
     "metadata": {},
     "output_type": "execute_result"
    },
    {
     "data": {
      "image/png": "[encoded data removed]",
      "text/plain": [
       "<Figure size 432x288 with 1 Axes>"
      ]
     },
     "metadata": {
      "needs_background": "light"
     },
     "output_type": "display_data"
    }
   ],
   "source": [
    "checkouts_df['materialtype'].value_counts().plot(kind='bar')"
   ]
  },
  {
   "cell_type": "markdown",
   "metadata": {},
   "source": [
    "\n",
    "---\n",
    "\n",
    "## 1. Sortierung des Erscheinungsjahre absteigend\n",
    "In der Ursprungsdatei sind in der Spalte \"publicationyear\" nicht-numerische Zeichen enthalten (Wörter, Bindestriche, Copyright etc.). Um die Daten für eine Verarbeitung aufzubereiten, werden im Folgenden diese Character entfernt. Bei der Angabe eines Zeitraums von-bis wird das erste Jahr berücksichtigt."
   ]
  },
  {
   "cell_type": "code",
   "execution_count": 146,
   "metadata": {},
   "outputs": [],
   "source": [
    "import re"
   ]
  },
  {
   "cell_type": "code",
   "execution_count": 147,
   "metadata": {},
   "outputs": [],
   "source": [
    "#aus Spalte publicationyear alle Nicht-Zahl-Character (Basis ASCII-Range, Brackets, Space) entfernen. \n",
    "#Auch Zeitraeume von-bis enthalten -> nur die ersten 4 Zahlen von Zeilenanfang werden berücksichtigt.\n",
    "\n",
    "checkouts_clean_df = checkouts_df.replace({'publicationyear': r'[\\]|\\.\\[℗©a-zA-Z\\u0080-\\uFFFF]'}, {'publicationyear':''}, regex=True)"
   ]
  },
  {
   "cell_type": "code",
   "execution_count": 148,
   "metadata": {},
   "outputs": [],
   "source": [
    "checkouts_clean1_df = checkouts_clean_df.replace({'publicationyear': r'(^\\s\\s?\\d{2}\\s\\s?)'}, {'publicationyear':''}, regex=True)"
   ]
  },
  {
   "cell_type": "code",
   "execution_count": 149,
   "metadata": {},
   "outputs": [],
   "source": [
    "checkouts_clean2_df = checkouts_clean1_df.replace({'publicationyear': r'(^\\s?\\d{4})(.+)?'}, {'publicationyear': r'\\1'}, regex=True)"
   ]
  },
  {
   "cell_type": "code",
   "execution_count": 150,
   "metadata": {},
   "outputs": [],
   "source": [
    "checkouts_clean3_df = checkouts_clean2_df.replace({'publicationyear': r'^\\s'}, {'publicationyear': ''}, regex=True)"
   ]
  },
  {
   "cell_type": "code",
   "execution_count": 151,
   "metadata": {},
   "outputs": [],
   "source": [
    "checkouts_clean4_df = checkouts_clean3_df.replace({'publicationyear': r'^.{0,3}$'}, {'publicationyear': ''}, regex=True)"
   ]
  },
  {
   "cell_type": "code",
   "execution_count": 152,
   "metadata": {},
   "outputs": [],
   "source": [
    "#na durch leere str ersetzen (da sonst ValueError, weil na kein int)\n",
    "checkouts_clean_final_df = checkouts_clean4_df.fillna('0')"
   ]
  },
  {
   "cell_type": "code",
   "execution_count": 153,
   "metadata": {},
   "outputs": [
    {
     "data": {
      "text/plain": [
       "array(['2014', '2017', '2012', '2016', '1964', '2018', '2000', '2010',\n",
       "       '2013', '2007', '2001', '2004', '2008', '2011', '2009', '2006',\n",
       "       '1994', '1971', '2015', '1991', '1997', '1990', '2002', '2005',\n",
       "       '1999', '1987', '1993', '1980', '1995', '2003', '1996', '1983',\n",
       "       '1966', '1942', '1946', '1900', '0', '1986', '1998', '2019',\n",
       "       '1916', '1988', '1981', '1992', '1974', '1989', '1977', '1979',\n",
       "       '1965', '1936', '1948', '1978', '1968', '1969', '1972', '1985',\n",
       "       '1975', '1970', '1952', '1961', '1947', '1984', '1962', '1911',\n",
       "       '1976', '1959', '1944', '1931', '1967', '1973', '1982', '1945',\n",
       "       '1940', '1928', '1963', '1909', '1912', '1913', '1958', '1943',\n",
       "       '1953', '1960', '1954', '1937', '1935'], dtype=object)"
      ]
     },
     "execution_count": 153,
     "metadata": {},
     "output_type": "execute_result"
    }
   ],
   "source": [
    "#Kontrolle der Erscheinungsjahre -> entweder '' oder vierstellige Zahl, die plausibel als EJ scheint\n",
    "checkouts_clean_final_df['publicationyear'].unique()"
   ]
  },
  {
   "cell_type": "code",
   "execution_count": 154,
   "metadata": {},
   "outputs": [
    {
     "data": {
      "text/html": [
       "<div>\n",
       "<style scoped>\n",
       "    .dataframe tbody tr th:only-of-type {\n",
       "        vertical-align: middle;\n",
       "    }\n",
       "\n",
       "    .dataframe tbody tr th {\n",
       "        vertical-align: top;\n",
       "    }\n",
       "\n",
       "    .dataframe thead th {\n",
       "        text-align: right;\n",
       "    }\n",
       "</style>\n",
       "<table border=\"1\" class=\"dataframe\">\n",
       "  <thead>\n",
       "    <tr style=\"text-align: right;\">\n",
       "      <th></th>\n",
       "      <th>usageclass</th>\n",
       "      <th>checkouttype</th>\n",
       "      <th>materialtype</th>\n",
       "      <th>checkoutyear</th>\n",
       "      <th>checkoutmonth</th>\n",
       "      <th>checkouts</th>\n",
       "      <th>title</th>\n",
       "      <th>creator</th>\n",
       "      <th>subjects</th>\n",
       "      <th>publisher</th>\n",
       "      <th>publicationyear</th>\n",
       "    </tr>\n",
       "  </thead>\n",
       "  <tbody>\n",
       "    <tr>\n",
       "      <th>2024</th>\n",
       "      <td>Physical</td>\n",
       "      <td>Horizon</td>\n",
       "      <td>BOOK</td>\n",
       "      <td>2018</td>\n",
       "      <td>12</td>\n",
       "      <td>2</td>\n",
       "      <td>A journey into yin yoga / Travis Eliot.</td>\n",
       "      <td>Eliot, Travis, 1977-</td>\n",
       "      <td>Yin yoga</td>\n",
       "      <td>Human Kinetics,</td>\n",
       "      <td>2019</td>\n",
       "    </tr>\n",
       "    <tr>\n",
       "      <th>4673</th>\n",
       "      <td>Physical</td>\n",
       "      <td>Horizon</td>\n",
       "      <td>BOOK</td>\n",
       "      <td>2018</td>\n",
       "      <td>12</td>\n",
       "      <td>4</td>\n",
       "      <td>Let's go. Europe / [researcher-writers, Julia ...</td>\n",
       "      <td>0</td>\n",
       "      <td>Europe Guidebooks, Guidebooks</td>\n",
       "      <td>Let's Go, Inc.,</td>\n",
       "      <td>2019</td>\n",
       "    </tr>\n",
       "    <tr>\n",
       "      <th>5520</th>\n",
       "      <td>Physical</td>\n",
       "      <td>Horizon</td>\n",
       "      <td>BOOK</td>\n",
       "      <td>2018</td>\n",
       "      <td>12</td>\n",
       "      <td>2</td>\n",
       "      <td>Yasmin the painter / written by Saadia Faruqi ...</td>\n",
       "      <td>Faruqi, Saadia</td>\n",
       "      <td>Muslim girls Juvenile fiction, Muslim families...</td>\n",
       "      <td>Picture Window Books, a Capstone imprint,</td>\n",
       "      <td>2019</td>\n",
       "    </tr>\n",
       "    <tr>\n",
       "      <th>748</th>\n",
       "      <td>Physical</td>\n",
       "      <td>Horizon</td>\n",
       "      <td>BOOK</td>\n",
       "      <td>2018</td>\n",
       "      <td>12</td>\n",
       "      <td>3</td>\n",
       "      <td>Feeling lonely / by Kirsty Holmes.</td>\n",
       "      <td>Holmes, Kirsty</td>\n",
       "      <td>Loneliness in children Juvenile literature, Em...</td>\n",
       "      <td>KidHaven Publishing,</td>\n",
       "      <td>2019</td>\n",
       "    </tr>\n",
       "    <tr>\n",
       "      <th>7141</th>\n",
       "      <td>Physical</td>\n",
       "      <td>Horizon</td>\n",
       "      <td>BOOK</td>\n",
       "      <td>2018</td>\n",
       "      <td>12</td>\n",
       "      <td>1</td>\n",
       "      <td>The American Heritage children's dictionary / ...</td>\n",
       "      <td>0</td>\n",
       "      <td>English language Dictionaries Juvenile, Dictio...</td>\n",
       "      <td>Houghton Mifflin Harcourt,</td>\n",
       "      <td>2019</td>\n",
       "    </tr>\n",
       "    <tr>\n",
       "      <th>...</th>\n",
       "      <td>...</td>\n",
       "      <td>...</td>\n",
       "      <td>...</td>\n",
       "      <td>...</td>\n",
       "      <td>...</td>\n",
       "      <td>...</td>\n",
       "      <td>...</td>\n",
       "      <td>...</td>\n",
       "      <td>...</td>\n",
       "      <td>...</td>\n",
       "      <td>...</td>\n",
       "    </tr>\n",
       "    <tr>\n",
       "      <th>9138</th>\n",
       "      <td>Physical</td>\n",
       "      <td>Horizon</td>\n",
       "      <td>BOOK</td>\n",
       "      <td>2018</td>\n",
       "      <td>12</td>\n",
       "      <td>2</td>\n",
       "      <td>ILLM Jean-Charles Moreux : architecte-decorate...</td>\n",
       "      <td>0</td>\n",
       "      <td>0</td>\n",
       "      <td>0</td>\n",
       "      <td>0</td>\n",
       "    </tr>\n",
       "    <tr>\n",
       "      <th>8818</th>\n",
       "      <td>Physical</td>\n",
       "      <td>Horizon</td>\n",
       "      <td>BOOK</td>\n",
       "      <td>2018</td>\n",
       "      <td>12</td>\n",
       "      <td>2</td>\n",
       "      <td>ILLM Economic history of the American steel in...</td>\n",
       "      <td>0</td>\n",
       "      <td>0</td>\n",
       "      <td>0</td>\n",
       "      <td>0</td>\n",
       "    </tr>\n",
       "    <tr>\n",
       "      <th>8285</th>\n",
       "      <td>Physical</td>\n",
       "      <td>Horizon</td>\n",
       "      <td>BOOK</td>\n",
       "      <td>2018</td>\n",
       "      <td>12</td>\n",
       "      <td>55</td>\n",
       "      <td>Uncataloged Folder or Bag--WTS</td>\n",
       "      <td>0</td>\n",
       "      <td>0</td>\n",
       "      <td>0</td>\n",
       "      <td>0</td>\n",
       "    </tr>\n",
       "    <tr>\n",
       "      <th>8491</th>\n",
       "      <td>Physical</td>\n",
       "      <td>Horizon</td>\n",
       "      <td>BOOK</td>\n",
       "      <td>2018</td>\n",
       "      <td>12</td>\n",
       "      <td>2</td>\n",
       "      <td>ILLM Physical expression on stage and screen :...</td>\n",
       "      <td>0</td>\n",
       "      <td>0</td>\n",
       "      <td>0</td>\n",
       "      <td>0</td>\n",
       "    </tr>\n",
       "    <tr>\n",
       "      <th>8196</th>\n",
       "      <td>Physical</td>\n",
       "      <td>Horizon</td>\n",
       "      <td>BOOK</td>\n",
       "      <td>2018</td>\n",
       "      <td>12</td>\n",
       "      <td>1</td>\n",
       "      <td>ILLM Drawings by Pisanello : a selection</td>\n",
       "      <td>0</td>\n",
       "      <td>0</td>\n",
       "      <td>0</td>\n",
       "      <td>0</td>\n",
       "    </tr>\n",
       "  </tbody>\n",
       "</table>\n",
       "<p>10000 rows × 11 columns</p>\n",
       "</div>"
      ],
      "text/plain": [
       "     usageclass checkouttype materialtype  checkoutyear  checkoutmonth  \\\n",
       "2024   Physical      Horizon         BOOK          2018             12   \n",
       "4673   Physical      Horizon         BOOK          2018             12   \n",
       "5520   Physical      Horizon         BOOK          2018             12   \n",
       "748    Physical      Horizon         BOOK          2018             12   \n",
       "7141   Physical      Horizon         BOOK          2018             12   \n",
       "...         ...          ...          ...           ...            ...   \n",
       "9138   Physical      Horizon         BOOK          2018             12   \n",
       "8818   Physical      Horizon         BOOK          2018             12   \n",
       "8285   Physical      Horizon         BOOK          2018             12   \n",
       "8491   Physical      Horizon         BOOK          2018             12   \n",
       "8196   Physical      Horizon         BOOK          2018             12   \n",
       "\n",
       "      checkouts                                              title  \\\n",
       "2024          2            A journey into yin yoga / Travis Eliot.   \n",
       "4673          4  Let's go. Europe / [researcher-writers, Julia ...   \n",
       "5520          2  Yasmin the painter / written by Saadia Faruqi ...   \n",
       "748           3                 Feeling lonely / by Kirsty Holmes.   \n",
       "7141          1  The American Heritage children's dictionary / ...   \n",
       "...         ...                                                ...   \n",
       "9138          2  ILLM Jean-Charles Moreux : architecte-decorate...   \n",
       "8818          2  ILLM Economic history of the American steel in...   \n",
       "8285         55                     Uncataloged Folder or Bag--WTS   \n",
       "8491          2  ILLM Physical expression on stage and screen :...   \n",
       "8196          1           ILLM Drawings by Pisanello : a selection   \n",
       "\n",
       "                   creator                                           subjects  \\\n",
       "2024  Eliot, Travis, 1977-                                           Yin yoga   \n",
       "4673                     0                      Europe Guidebooks, Guidebooks   \n",
       "5520        Faruqi, Saadia  Muslim girls Juvenile fiction, Muslim families...   \n",
       "748         Holmes, Kirsty  Loneliness in children Juvenile literature, Em...   \n",
       "7141                     0  English language Dictionaries Juvenile, Dictio...   \n",
       "...                    ...                                                ...   \n",
       "9138                     0                                                  0   \n",
       "8818                     0                                                  0   \n",
       "8285                     0                                                  0   \n",
       "8491                     0                                                  0   \n",
       "8196                     0                                                  0   \n",
       "\n",
       "                                      publisher publicationyear  \n",
       "2024                            Human Kinetics,            2019  \n",
       "4673                            Let's Go, Inc.,            2019  \n",
       "5520  Picture Window Books, a Capstone imprint,            2019  \n",
       "748                        KidHaven Publishing,            2019  \n",
       "7141                 Houghton Mifflin Harcourt,            2019  \n",
       "...                                         ...             ...  \n",
       "9138                                          0               0  \n",
       "8818                                          0               0  \n",
       "8285                                          0               0  \n",
       "8491                                          0               0  \n",
       "8196                                          0               0  \n",
       "\n",
       "[10000 rows x 11 columns]"
      ]
     },
     "execution_count": 154,
     "metadata": {},
     "output_type": "execute_result"
    }
   ],
   "source": [
    "checkouts_clean_final_df.sort_values(by=['publicationyear'], ascending=False)"
   ]
  },
  {
   "cell_type": "markdown",
   "metadata": {},
   "source": [
    "\n",
    "---\n",
    "\n",
    "## 2. Analyse Materialtype \"Book\", \"eBook\" & \"Audiobook\"\n",
    "Subset bilden und als eigenen Dataframe definieren"
   ]
  },
  {
   "cell_type": "code",
   "execution_count": 155,
   "metadata": {},
   "outputs": [
    {
     "data": {
      "text/html": [
       "<div>\n",
       "<style scoped>\n",
       "    .dataframe tbody tr th:only-of-type {\n",
       "        vertical-align: middle;\n",
       "    }\n",
       "\n",
       "    .dataframe tbody tr th {\n",
       "        vertical-align: top;\n",
       "    }\n",
       "\n",
       "    .dataframe thead th {\n",
       "        text-align: right;\n",
       "    }\n",
       "</style>\n",
       "<table border=\"1\" class=\"dataframe\">\n",
       "  <thead>\n",
       "    <tr style=\"text-align: right;\">\n",
       "      <th></th>\n",
       "      <th>usageclass</th>\n",
       "      <th>checkouttype</th>\n",
       "      <th>materialtype</th>\n",
       "      <th>checkoutyear</th>\n",
       "      <th>checkoutmonth</th>\n",
       "      <th>checkouts</th>\n",
       "      <th>title</th>\n",
       "      <th>creator</th>\n",
       "      <th>subjects</th>\n",
       "      <th>publisher</th>\n",
       "      <th>publicationyear</th>\n",
       "    </tr>\n",
       "  </thead>\n",
       "  <tbody>\n",
       "    <tr>\n",
       "      <th>0</th>\n",
       "      <td>Physical</td>\n",
       "      <td>Horizon</td>\n",
       "      <td>BOOK</td>\n",
       "      <td>2018</td>\n",
       "      <td>12</td>\n",
       "      <td>1</td>\n",
       "      <td>Naruto. Vol. 65, Hashirama and Madara / story ...</td>\n",
       "      <td>Kishimoto, Masashi, 1974-</td>\n",
       "      <td>Naruto Fictitious character Comic books strips...</td>\n",
       "      <td>VIZ Media,</td>\n",
       "      <td>2014</td>\n",
       "    </tr>\n",
       "    <tr>\n",
       "      <th>1</th>\n",
       "      <td>Physical</td>\n",
       "      <td>Horizon</td>\n",
       "      <td>BOOK</td>\n",
       "      <td>2018</td>\n",
       "      <td>12</td>\n",
       "      <td>2</td>\n",
       "      <td>Oishisō na shirokuma / Shibata Keiko.</td>\n",
       "      <td>Shibata, Keiko.</td>\n",
       "      <td>Polar bear Juvenile fiction, Food Juvenile fic...</td>\n",
       "      <td>Pīeichipīkenkyūjo,</td>\n",
       "      <td>2017</td>\n",
       "    </tr>\n",
       "    <tr>\n",
       "      <th>3</th>\n",
       "      <td>Digital</td>\n",
       "      <td>OverDrive</td>\n",
       "      <td>AUDIOBOOK</td>\n",
       "      <td>2018</td>\n",
       "      <td>12</td>\n",
       "      <td>3</td>\n",
       "      <td>Catch a Falling Heiress: American Heiress In L...</td>\n",
       "      <td>Laura Lee Guhrke</td>\n",
       "      <td>Fiction, Historical Fiction, Romance</td>\n",
       "      <td>HarperCollins Publishers Inc.</td>\n",
       "      <td>2016</td>\n",
       "    </tr>\n",
       "    <tr>\n",
       "      <th>4</th>\n",
       "      <td>Physical</td>\n",
       "      <td>Horizon</td>\n",
       "      <td>BOOK</td>\n",
       "      <td>2018</td>\n",
       "      <td>12</td>\n",
       "      <td>1</td>\n",
       "      <td>Literally show me a healthy person / Darcie Wi...</td>\n",
       "      <td>Wilder, Darcie</td>\n",
       "      <td>Young women Fiction, Grief Fiction</td>\n",
       "      <td>Tyrant Books,</td>\n",
       "      <td>2017</td>\n",
       "    </tr>\n",
       "    <tr>\n",
       "      <th>5</th>\n",
       "      <td>Physical</td>\n",
       "      <td>Horizon</td>\n",
       "      <td>BOOK</td>\n",
       "      <td>2018</td>\n",
       "      <td>12</td>\n",
       "      <td>1</td>\n",
       "      <td>The destruction of Dresden. / With an introd. ...</td>\n",
       "      <td>Irving, David John Cawdell, 1938-</td>\n",
       "      <td>World War 1939 1945 Destruction and pillage Ge...</td>\n",
       "      <td>Holt, Rinehart and Winston,</td>\n",
       "      <td>1964</td>\n",
       "    </tr>\n",
       "    <tr>\n",
       "      <th>...</th>\n",
       "      <td>...</td>\n",
       "      <td>...</td>\n",
       "      <td>...</td>\n",
       "      <td>...</td>\n",
       "      <td>...</td>\n",
       "      <td>...</td>\n",
       "      <td>...</td>\n",
       "      <td>...</td>\n",
       "      <td>...</td>\n",
       "      <td>...</td>\n",
       "      <td>...</td>\n",
       "    </tr>\n",
       "    <tr>\n",
       "      <th>9990</th>\n",
       "      <td>Physical</td>\n",
       "      <td>Horizon</td>\n",
       "      <td>BOOK</td>\n",
       "      <td>2018</td>\n",
       "      <td>12</td>\n",
       "      <td>1</td>\n",
       "      <td>The fishermen / Chigozie Obionma.</td>\n",
       "      <td>Obioma, Chigozie, 1986-</td>\n",
       "      <td>Brothers Fiction, Fratricide Fiction, Large ty...</td>\n",
       "      <td>Thorndike Press,</td>\n",
       "      <td>2015</td>\n",
       "    </tr>\n",
       "    <tr>\n",
       "      <th>9991</th>\n",
       "      <td>Digital</td>\n",
       "      <td>OverDrive</td>\n",
       "      <td>EBOOK</td>\n",
       "      <td>2018</td>\n",
       "      <td>12</td>\n",
       "      <td>3</td>\n",
       "      <td>Don't Call Me Princess: Essays on Girls, Women...</td>\n",
       "      <td>Peggy Orenstein</td>\n",
       "      <td>Essays, Literary Criticism, Nonfiction, Sociology</td>\n",
       "      <td>HarperCollins Publishers Inc.</td>\n",
       "      <td>2018</td>\n",
       "    </tr>\n",
       "    <tr>\n",
       "      <th>9994</th>\n",
       "      <td>Physical</td>\n",
       "      <td>Horizon</td>\n",
       "      <td>BOOK</td>\n",
       "      <td>2018</td>\n",
       "      <td>12</td>\n",
       "      <td>3</td>\n",
       "      <td>Turtle in paradise / Jennifer L. Holm.</td>\n",
       "      <td>Holm, Jennifer L.</td>\n",
       "      <td>Cousins Juvenile fiction, Families Florida Juv...</td>\n",
       "      <td>Yearling Newbery,</td>\n",
       "      <td>2016</td>\n",
       "    </tr>\n",
       "    <tr>\n",
       "      <th>9997</th>\n",
       "      <td>Physical</td>\n",
       "      <td>Horizon</td>\n",
       "      <td>BOOK</td>\n",
       "      <td>2018</td>\n",
       "      <td>12</td>\n",
       "      <td>3</td>\n",
       "      <td>The empty pot / Demi.</td>\n",
       "      <td>Demi</td>\n",
       "      <td>Folklore China, Honesty Juvenile literature, P...</td>\n",
       "      <td>Henry Holt and Company,</td>\n",
       "      <td>2012</td>\n",
       "    </tr>\n",
       "    <tr>\n",
       "      <th>9999</th>\n",
       "      <td>Physical</td>\n",
       "      <td>Horizon</td>\n",
       "      <td>BOOK</td>\n",
       "      <td>2018</td>\n",
       "      <td>12</td>\n",
       "      <td>4</td>\n",
       "      <td>The Pied Piper's magic / Steven Kellogg.</td>\n",
       "      <td>Kellogg, Steven</td>\n",
       "      <td>Fairy tales, Magic Fiction, Rats Juvenile fiction</td>\n",
       "      <td>Dial Books for Young Readers,</td>\n",
       "      <td>2009</td>\n",
       "    </tr>\n",
       "  </tbody>\n",
       "</table>\n",
       "<p>8143 rows × 11 columns</p>\n",
       "</div>"
      ],
      "text/plain": [
       "     usageclass checkouttype materialtype  checkoutyear  checkoutmonth  \\\n",
       "0      Physical      Horizon         BOOK          2018             12   \n",
       "1      Physical      Horizon         BOOK          2018             12   \n",
       "3       Digital    OverDrive    AUDIOBOOK          2018             12   \n",
       "4      Physical      Horizon         BOOK          2018             12   \n",
       "5      Physical      Horizon         BOOK          2018             12   \n",
       "...         ...          ...          ...           ...            ...   \n",
       "9990   Physical      Horizon         BOOK          2018             12   \n",
       "9991    Digital    OverDrive        EBOOK          2018             12   \n",
       "9994   Physical      Horizon         BOOK          2018             12   \n",
       "9997   Physical      Horizon         BOOK          2018             12   \n",
       "9999   Physical      Horizon         BOOK          2018             12   \n",
       "\n",
       "      checkouts                                              title  \\\n",
       "0             1  Naruto. Vol. 65, Hashirama and Madara / story ...   \n",
       "1             2              Oishisō na shirokuma / Shibata Keiko.   \n",
       "3             3  Catch a Falling Heiress: American Heiress In L...   \n",
       "4             1  Literally show me a healthy person / Darcie Wi...   \n",
       "5             1  The destruction of Dresden. / With an introd. ...   \n",
       "...         ...                                                ...   \n",
       "9990          1                  The fishermen / Chigozie Obionma.   \n",
       "9991          3  Don't Call Me Princess: Essays on Girls, Women...   \n",
       "9994          3             Turtle in paradise / Jennifer L. Holm.   \n",
       "9997          3                              The empty pot / Demi.   \n",
       "9999          4           The Pied Piper's magic / Steven Kellogg.   \n",
       "\n",
       "                                creator  \\\n",
       "0             Kishimoto, Masashi, 1974-   \n",
       "1                       Shibata, Keiko.   \n",
       "3                      Laura Lee Guhrke   \n",
       "4                        Wilder, Darcie   \n",
       "5     Irving, David John Cawdell, 1938-   \n",
       "...                                 ...   \n",
       "9990            Obioma, Chigozie, 1986-   \n",
       "9991                    Peggy Orenstein   \n",
       "9994                  Holm, Jennifer L.   \n",
       "9997                               Demi   \n",
       "9999                    Kellogg, Steven   \n",
       "\n",
       "                                               subjects  \\\n",
       "0     Naruto Fictitious character Comic books strips...   \n",
       "1     Polar bear Juvenile fiction, Food Juvenile fic...   \n",
       "3                  Fiction, Historical Fiction, Romance   \n",
       "4                    Young women Fiction, Grief Fiction   \n",
       "5     World War 1939 1945 Destruction and pillage Ge...   \n",
       "...                                                 ...   \n",
       "9990  Brothers Fiction, Fratricide Fiction, Large ty...   \n",
       "9991  Essays, Literary Criticism, Nonfiction, Sociology   \n",
       "9994  Cousins Juvenile fiction, Families Florida Juv...   \n",
       "9997  Folklore China, Honesty Juvenile literature, P...   \n",
       "9999  Fairy tales, Magic Fiction, Rats Juvenile fiction   \n",
       "\n",
       "                          publisher publicationyear  \n",
       "0                        VIZ Media,            2014  \n",
       "1                Pīeichipīkenkyūjo,            2017  \n",
       "3     HarperCollins Publishers Inc.            2016  \n",
       "4                     Tyrant Books,            2017  \n",
       "5       Holt, Rinehart and Winston,            1964  \n",
       "...                             ...             ...  \n",
       "9990               Thorndike Press,            2015  \n",
       "9991  HarperCollins Publishers Inc.            2018  \n",
       "9994              Yearling Newbery,            2016  \n",
       "9997        Henry Holt and Company,            2012  \n",
       "9999  Dial Books for Young Readers,            2009  \n",
       "\n",
       "[8143 rows x 11 columns]"
      ]
     },
     "execution_count": 155,
     "metadata": {},
     "output_type": "execute_result"
    }
   ],
   "source": [
    "types = [\"BOOK\", \"AUDIOBOOK\", \"EBOOK\"]\n",
    "checkouts_books_df = checkouts_clean_final_df[checkouts_clean_final_df['materialtype'].isin(types)]\n",
    "checkouts_books_df"
   ]
  },
  {
   "cell_type": "code",
   "execution_count": 156,
   "metadata": {},
   "outputs": [
    {
     "data": {
      "text/plain": [
       "<AxesSubplot:xlabel='materialtype'>"
      ]
     },
     "execution_count": 156,
     "metadata": {},
     "output_type": "execute_result"
    },
    {
     "data": {
      "image/png": "[encoded data removed]",
      "text/plain": [
       "<Figure size 432x288 with 1 Axes>"
      ]
     },
     "metadata": {
      "needs_background": "light"
     },
     "output_type": "display_data"
    }
   ],
   "source": [
    "checkouts_books_df.groupby('materialtype')['checkouts'].mean().plot(kind='bar')"
   ]
  },
  {
   "cell_type": "markdown",
   "metadata": {},
   "source": [
    "#### Verteilung Erscheinungsjahre be Book, eBook, Audiobook"
   ]
  },
  {
   "cell_type": "code",
   "execution_count": 157,
   "metadata": {},
   "outputs": [
    {
     "data": {
      "text/plain": [
       "0       2014\n",
       "1       2017\n",
       "3       2016\n",
       "4       2017\n",
       "5       1964\n",
       "        ... \n",
       "9990    2015\n",
       "9991    2018\n",
       "9994    2016\n",
       "9997    2012\n",
       "9999    2009\n",
       "Name: publicationyear, Length: 8143, dtype: int64"
      ]
     },
     "execution_count": 157,
     "metadata": {},
     "output_type": "execute_result"
    }
   ],
   "source": [
    "checkouts_books_df['publicationyear'].astype(int)"
   ]
  },
  {
   "cell_type": "code",
   "execution_count": 158,
   "metadata": {},
   "outputs": [
    {
     "data": {
      "text/plain": [
       "2018    1108\n",
       "2017     967\n",
       "2016     781\n",
       "2013     759\n",
       "2015     699\n",
       "        ... \n",
       "1946       1\n",
       "1940       1\n",
       "1937       1\n",
       "1948       1\n",
       "1916       1\n",
       "Name: publicationyear, Length: 83, dtype: int64"
      ]
     },
     "execution_count": 158,
     "metadata": {},
     "output_type": "execute_result"
    }
   ],
   "source": [
    "year_counts = checkouts_books_df['publicationyear'].value_counts()\n",
    "year_counts"
   ]
  },
  {
   "cell_type": "code",
   "execution_count": 166,
   "metadata": {},
   "outputs": [
    {
     "data": {
      "text/plain": [
       "<AxesSubplot:>"
      ]
     },
     "execution_count": 166,
     "metadata": {},
     "output_type": "execute_result"
    },
    {
     "data": {
      "image/png": "[encoded data removed]",
      "text/plain": [
       "<Figure size 432x288 with 1 Axes>"
      ]
     },
     "metadata": {
      "needs_background": "light"
     },
     "output_type": "display_data"
    }
   ],
   "source": [
    "n = 5\n",
    "\n",
    "ax = checkouts_books_df['publicationyear'].value_counts().plot(kind='bar')\n",
    "ticks = ax.xaxis.get_ticklocs()\n",
    "ticklabels = [l.get_text() for l in ax.xaxis.get_ticklabels()]\n",
    "ax.xaxis.set_ticks(ticks[::n])\n",
    "ax.xaxis.set_ticklabels(ticklabels[::n])\n",
    "\n",
    "ax\n"
   ]
  },
  {
   "cell_type": "code",
   "execution_count": 160,
   "metadata": {},
   "outputs": [
    {
     "data": {
      "text/plain": [
       "<AxesSubplot:xlabel='publicationyear'>"
      ]
     },
     "execution_count": 160,
     "metadata": {},
     "output_type": "execute_result"
    },
    {
     "data": {
      "image/png": "[encoded data removed]",
      "text/plain": [
       "<Figure size 432x288 with 1 Axes>"
      ]
     },
     "metadata": {
      "needs_background": "light"
     },
     "output_type": "display_data"
    }
   ],
   "source": [
    "#Quelle: https://stackoverflow.com/questions/19143857\n",
    "\n",
    "n = 3\n",
    "\n",
    "ax = checkouts_books_df.groupby('materialtype')['publicationyear'].value_counts().nlargest(35).unstack(0).plot(kind='bar')\n",
    "ticks = ax.xaxis.get_ticklocs()\n",
    "ticklabels = [l.get_text() for l in ax.xaxis.get_ticklabels()] #get_ticklabels() -> get the tick labels as a list of Text instances\n",
    "ax.xaxis.set_ticks(ticks[::n])\n",
    "ax.xaxis.set_ticklabels(ticklabels[::n])\n",
    "ax"
   ]
  },
  {
   "cell_type": "markdown",
   "metadata": {},
   "source": [
    "\n",
    "---\n",
    "\n",
    "## 3. Checkouts im Verhältnis zu Sacherschließung und Physische Form (Usageclass)\n",
    "### 3a. Sind Ressourcen mit mehr Schlagwörtern häufiger entliehen?"
   ]
  },
  {
   "cell_type": "markdown",
   "metadata": {},
   "source": [
    "Die Schlagwörter werden - separiert nach Kommata - gezählt, diese Zahl wird in einer neuen Spalte \"subject_len\" angehängt."
   ]
  },
  {
   "cell_type": "code",
   "execution_count": 161,
   "metadata": {},
   "outputs": [],
   "source": [
    "checkouts_df['subject_len'] = checkouts_df.subjects.apply(lambda x: len(str(x).split(', ')))"
   ]
  },
  {
   "cell_type": "code",
   "execution_count": 162,
   "metadata": {},
   "outputs": [
    {
     "data": {
      "text/html": [
       "<div>\n",
       "<style scoped>\n",
       "    .dataframe tbody tr th:only-of-type {\n",
       "        vertical-align: middle;\n",
       "    }\n",
       "\n",
       "    .dataframe tbody tr th {\n",
       "        vertical-align: top;\n",
       "    }\n",
       "\n",
       "    .dataframe thead th {\n",
       "        text-align: right;\n",
       "    }\n",
       "</style>\n",
       "<table border=\"1\" class=\"dataframe\">\n",
       "  <thead>\n",
       "    <tr style=\"text-align: right;\">\n",
       "      <th></th>\n",
       "      <th>usageclass</th>\n",
       "      <th>checkouttype</th>\n",
       "      <th>materialtype</th>\n",
       "      <th>checkoutyear</th>\n",
       "      <th>checkoutmonth</th>\n",
       "      <th>checkouts</th>\n",
       "      <th>title</th>\n",
       "      <th>creator</th>\n",
       "      <th>subjects</th>\n",
       "      <th>publisher</th>\n",
       "      <th>publicationyear</th>\n",
       "      <th>subject_len</th>\n",
       "    </tr>\n",
       "  </thead>\n",
       "  <tbody>\n",
       "    <tr>\n",
       "      <th>0</th>\n",
       "      <td>Physical</td>\n",
       "      <td>Horizon</td>\n",
       "      <td>BOOK</td>\n",
       "      <td>2018</td>\n",
       "      <td>12</td>\n",
       "      <td>1</td>\n",
       "      <td>Naruto. Vol. 65, Hashirama and Madara / story ...</td>\n",
       "      <td>Kishimoto, Masashi, 1974-</td>\n",
       "      <td>Naruto Fictitious character Comic books strips...</td>\n",
       "      <td>VIZ Media,</td>\n",
       "      <td>[2014]</td>\n",
       "      <td>3</td>\n",
       "    </tr>\n",
       "    <tr>\n",
       "      <th>1</th>\n",
       "      <td>Physical</td>\n",
       "      <td>Horizon</td>\n",
       "      <td>BOOK</td>\n",
       "      <td>2018</td>\n",
       "      <td>12</td>\n",
       "      <td>2</td>\n",
       "      <td>Oishisō na shirokuma / Shibata Keiko.</td>\n",
       "      <td>Shibata, Keiko.</td>\n",
       "      <td>Polar bear Juvenile fiction, Food Juvenile fic...</td>\n",
       "      <td>Pīeichipīkenkyūjo,</td>\n",
       "      <td>2017.</td>\n",
       "      <td>4</td>\n",
       "    </tr>\n",
       "    <tr>\n",
       "      <th>2</th>\n",
       "      <td>Physical</td>\n",
       "      <td>Horizon</td>\n",
       "      <td>VIDEODISC</td>\n",
       "      <td>2018</td>\n",
       "      <td>12</td>\n",
       "      <td>7</td>\n",
       "      <td>Like crazy / Paramount Vantage ; Indian Paintb...</td>\n",
       "      <td>NaN</td>\n",
       "      <td>First loves Drama, College students Drama, Fea...</td>\n",
       "      <td>Paramount Home Entertainment,</td>\n",
       "      <td>[2012]</td>\n",
       "      <td>6</td>\n",
       "    </tr>\n",
       "    <tr>\n",
       "      <th>3</th>\n",
       "      <td>Digital</td>\n",
       "      <td>OverDrive</td>\n",
       "      <td>AUDIOBOOK</td>\n",
       "      <td>2018</td>\n",
       "      <td>12</td>\n",
       "      <td>3</td>\n",
       "      <td>Catch a Falling Heiress: American Heiress In L...</td>\n",
       "      <td>Laura Lee Guhrke</td>\n",
       "      <td>Fiction, Historical Fiction, Romance</td>\n",
       "      <td>HarperCollins Publishers Inc.</td>\n",
       "      <td>2016</td>\n",
       "      <td>3</td>\n",
       "    </tr>\n",
       "    <tr>\n",
       "      <th>4</th>\n",
       "      <td>Physical</td>\n",
       "      <td>Horizon</td>\n",
       "      <td>BOOK</td>\n",
       "      <td>2018</td>\n",
       "      <td>12</td>\n",
       "      <td>1</td>\n",
       "      <td>Literally show me a healthy person / Darcie Wi...</td>\n",
       "      <td>Wilder, Darcie</td>\n",
       "      <td>Young women Fiction, Grief Fiction</td>\n",
       "      <td>Tyrant Books,</td>\n",
       "      <td>[2017]</td>\n",
       "      <td>2</td>\n",
       "    </tr>\n",
       "    <tr>\n",
       "      <th>...</th>\n",
       "      <td>...</td>\n",
       "      <td>...</td>\n",
       "      <td>...</td>\n",
       "      <td>...</td>\n",
       "      <td>...</td>\n",
       "      <td>...</td>\n",
       "      <td>...</td>\n",
       "      <td>...</td>\n",
       "      <td>...</td>\n",
       "      <td>...</td>\n",
       "      <td>...</td>\n",
       "      <td>...</td>\n",
       "    </tr>\n",
       "    <tr>\n",
       "      <th>9995</th>\n",
       "      <td>Physical</td>\n",
       "      <td>Horizon</td>\n",
       "      <td>SOUNDDISC</td>\n",
       "      <td>2018</td>\n",
       "      <td>12</td>\n",
       "      <td>1</td>\n",
       "      <td>Water / Gregory Porter.</td>\n",
       "      <td>Porter, Gregory</td>\n",
       "      <td>Jazz vocals, Jazz 2001 2010</td>\n",
       "      <td>Motéma Music,</td>\n",
       "      <td>[2010]</td>\n",
       "      <td>2</td>\n",
       "    </tr>\n",
       "    <tr>\n",
       "      <th>9996</th>\n",
       "      <td>Physical</td>\n",
       "      <td>Horizon</td>\n",
       "      <td>VIDEODISC</td>\n",
       "      <td>2018</td>\n",
       "      <td>12</td>\n",
       "      <td>5</td>\n",
       "      <td>Tyler Perry's I can do bad all by myself / Lio...</td>\n",
       "      <td>NaN</td>\n",
       "      <td>Simmons Madea Fictitious character Drama, Burg...</td>\n",
       "      <td>Lionsgate,</td>\n",
       "      <td>[2010]</td>\n",
       "      <td>11</td>\n",
       "    </tr>\n",
       "    <tr>\n",
       "      <th>9997</th>\n",
       "      <td>Physical</td>\n",
       "      <td>Horizon</td>\n",
       "      <td>BOOK</td>\n",
       "      <td>2018</td>\n",
       "      <td>12</td>\n",
       "      <td>3</td>\n",
       "      <td>The empty pot / Demi.</td>\n",
       "      <td>Demi</td>\n",
       "      <td>Folklore China, Honesty Juvenile literature, P...</td>\n",
       "      <td>Henry Holt and Company,</td>\n",
       "      <td>2012.</td>\n",
       "      <td>3</td>\n",
       "    </tr>\n",
       "    <tr>\n",
       "      <th>9998</th>\n",
       "      <td>Physical</td>\n",
       "      <td>Horizon</td>\n",
       "      <td>VIDEODISC</td>\n",
       "      <td>2018</td>\n",
       "      <td>12</td>\n",
       "      <td>8</td>\n",
       "      <td>Little Dorrit / BBC Productions/WGBH co-produc...</td>\n",
       "      <td>NaN</td>\n",
       "      <td>Marshalsea Prison Southwark London England Dra...</td>\n",
       "      <td>BBC Video : distributed by Warner Home Video,</td>\n",
       "      <td>2009.</td>\n",
       "      <td>8</td>\n",
       "    </tr>\n",
       "    <tr>\n",
       "      <th>9999</th>\n",
       "      <td>Physical</td>\n",
       "      <td>Horizon</td>\n",
       "      <td>BOOK</td>\n",
       "      <td>2018</td>\n",
       "      <td>12</td>\n",
       "      <td>4</td>\n",
       "      <td>The Pied Piper's magic / Steven Kellogg.</td>\n",
       "      <td>Kellogg, Steven</td>\n",
       "      <td>Fairy tales, Magic Fiction, Rats Juvenile fiction</td>\n",
       "      <td>Dial Books for Young Readers,</td>\n",
       "      <td>[2009]</td>\n",
       "      <td>3</td>\n",
       "    </tr>\n",
       "  </tbody>\n",
       "</table>\n",
       "<p>10000 rows × 12 columns</p>\n",
       "</div>"
      ],
      "text/plain": [
       "     usageclass checkouttype materialtype  checkoutyear  checkoutmonth  \\\n",
       "0      Physical      Horizon         BOOK          2018             12   \n",
       "1      Physical      Horizon         BOOK          2018             12   \n",
       "2      Physical      Horizon    VIDEODISC          2018             12   \n",
       "3       Digital    OverDrive    AUDIOBOOK          2018             12   \n",
       "4      Physical      Horizon         BOOK          2018             12   \n",
       "...         ...          ...          ...           ...            ...   \n",
       "9995   Physical      Horizon    SOUNDDISC          2018             12   \n",
       "9996   Physical      Horizon    VIDEODISC          2018             12   \n",
       "9997   Physical      Horizon         BOOK          2018             12   \n",
       "9998   Physical      Horizon    VIDEODISC          2018             12   \n",
       "9999   Physical      Horizon         BOOK          2018             12   \n",
       "\n",
       "      checkouts                                              title  \\\n",
       "0             1  Naruto. Vol. 65, Hashirama and Madara / story ...   \n",
       "1             2              Oishisō na shirokuma / Shibata Keiko.   \n",
       "2             7  Like crazy / Paramount Vantage ; Indian Paintb...   \n",
       "3             3  Catch a Falling Heiress: American Heiress In L...   \n",
       "4             1  Literally show me a healthy person / Darcie Wi...   \n",
       "...         ...                                                ...   \n",
       "9995          1                            Water / Gregory Porter.   \n",
       "9996          5  Tyler Perry's I can do bad all by myself / Lio...   \n",
       "9997          3                              The empty pot / Demi.   \n",
       "9998          8  Little Dorrit / BBC Productions/WGBH co-produc...   \n",
       "9999          4           The Pied Piper's magic / Steven Kellogg.   \n",
       "\n",
       "                        creator  \\\n",
       "0     Kishimoto, Masashi, 1974-   \n",
       "1               Shibata, Keiko.   \n",
       "2                           NaN   \n",
       "3              Laura Lee Guhrke   \n",
       "4                Wilder, Darcie   \n",
       "...                         ...   \n",
       "9995            Porter, Gregory   \n",
       "9996                        NaN   \n",
       "9997                       Demi   \n",
       "9998                        NaN   \n",
       "9999            Kellogg, Steven   \n",
       "\n",
       "                                               subjects  \\\n",
       "0     Naruto Fictitious character Comic books strips...   \n",
       "1     Polar bear Juvenile fiction, Food Juvenile fic...   \n",
       "2     First loves Drama, College students Drama, Fea...   \n",
       "3                  Fiction, Historical Fiction, Romance   \n",
       "4                    Young women Fiction, Grief Fiction   \n",
       "...                                                 ...   \n",
       "9995                        Jazz vocals, Jazz 2001 2010   \n",
       "9996  Simmons Madea Fictitious character Drama, Burg...   \n",
       "9997  Folklore China, Honesty Juvenile literature, P...   \n",
       "9998  Marshalsea Prison Southwark London England Dra...   \n",
       "9999  Fairy tales, Magic Fiction, Rats Juvenile fiction   \n",
       "\n",
       "                                          publisher publicationyear  \\\n",
       "0                                        VIZ Media,          [2014]   \n",
       "1                                Pīeichipīkenkyūjo,           2017.   \n",
       "2                     Paramount Home Entertainment,          [2012]   \n",
       "3                     HarperCollins Publishers Inc.            2016   \n",
       "4                                     Tyrant Books,          [2017]   \n",
       "...                                             ...             ...   \n",
       "9995                                  Motéma Music,          [2010]   \n",
       "9996                                     Lionsgate,          [2010]   \n",
       "9997                        Henry Holt and Company,           2012.   \n",
       "9998  BBC Video : distributed by Warner Home Video,           2009.   \n",
       "9999                  Dial Books for Young Readers,          [2009]   \n",
       "\n",
       "      subject_len  \n",
       "0               3  \n",
       "1               4  \n",
       "2               6  \n",
       "3               3  \n",
       "4               2  \n",
       "...           ...  \n",
       "9995            2  \n",
       "9996           11  \n",
       "9997            3  \n",
       "9998            8  \n",
       "9999            3  \n",
       "\n",
       "[10000 rows x 12 columns]"
      ]
     },
     "execution_count": 162,
     "metadata": {},
     "output_type": "execute_result"
    }
   ],
   "source": [
    "checkouts_df"
   ]
  },
  {
   "cell_type": "code",
   "execution_count": 163,
   "metadata": {},
   "outputs": [
    {
     "data": {
      "text/plain": [
       "subject_len\n",
       "1      785\n",
       "2     2872\n",
       "3     2282\n",
       "4     1562\n",
       "5      737\n",
       "6      585\n",
       "7      456\n",
       "8      278\n",
       "9      191\n",
       "10     100\n",
       "11      61\n",
       "12      36\n",
       "13      19\n",
       "14      14\n",
       "15       6\n",
       "16       5\n",
       "17       2\n",
       "18       4\n",
       "20       3\n",
       "22       2\n",
       "dtype: int64"
      ]
     },
     "execution_count": 163,
     "metadata": {},
     "output_type": "execute_result"
    }
   ],
   "source": [
    "#Frequenz der subject_len prüfen\n",
    "checkouts_df.groupby('subject_len').size()"
   ]
  },
  {
   "cell_type": "code",
   "execution_count": 164,
   "metadata": {},
   "outputs": [
    {
     "data": {
      "text/plain": [
       "<AxesSubplot:xlabel='subject_len'>"
      ]
     },
     "execution_count": 164,
     "metadata": {},
     "output_type": "execute_result"
    },
    {
     "data": {
      "image/png": "[encoded data removed]",
      "text/plain": [
       "<Figure size 432x288 with 1 Axes>"
      ]
     },
     "metadata": {
      "needs_background": "light"
     },
     "output_type": "display_data"
    }
   ],
   "source": [
    "checkouts_df.groupby('subject_len')['checkouts'].mean().plot(kind='bar')"
   ]
  },
  {
   "cell_type": "markdown",
   "metadata": {},
   "source": [
    "### 3b. Checkouts nach Digital und Physical"
   ]
  },
  {
   "cell_type": "code",
   "execution_count": 165,
   "metadata": {},
   "outputs": [
    {
     "data": {
      "text/plain": [
       "<AxesSubplot:xlabel='usageclass'>"
      ]
     },
     "execution_count": 165,
     "metadata": {},
     "output_type": "execute_result"
    },
    {
     "data": {
      "image/png": "[encoded data removed]",
      "text/plain": [
       "<Figure size 432x288 with 1 Axes>"
      ]
     },
     "metadata": {
      "needs_background": "light"
     },
     "output_type": "display_data"
    }
   ],
   "source": [
    "#df.groupby('country').plot(x='year', y='unemployment')\n",
    "checkouts_df.groupby('usageclass')['checkouts'].mean().plot(kind='bar')"
   ]
  },
  {
   "cell_type": "code",
   "execution_count": null,
   "metadata": {},
   "outputs": [],
   "source": []
  }
 ],
 "metadata": {
  "kernelspec": {
   "display_name": "Python 3",
   "language": "python",
   "name": "python3"
  },
  "language_info": {
   "codemirror_mode": {
    "name": "ipython",
    "version": 3
   },
   "file_extension": ".py",
   "mimetype": "text/x-python",
   "name": "python",
   "nbconvert_exporter": "python",
   "pygments_lexer": "ipython3",
   "version": "3.8.5"
  }
 },
 "nbformat": 4,
 "nbformat_minor": 4
}
